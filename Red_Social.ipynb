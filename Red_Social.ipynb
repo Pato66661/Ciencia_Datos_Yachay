{
 "cells": [
  {
   "cell_type": "markdown",
   "metadata": {},
   "source": [
    "Creación Lista"
   ]
  },
  {
   "cell_type": "code",
   "execution_count": 1,
   "metadata": {},
   "outputs": [],
   "source": [
    "users = [\n",
    "    {\"id\": 0, \"name\": \"Hero\"},\n",
    "    {\"id\": 1, \"name\": \"Dunn\"},\n",
    "    {\"id\": 2, \"name\": \"Sue\"},\n",
    "    {\"id\": 3, \"name\": \"Chi\"},\n",
    "    {\"id\": 4, \"name\": \"Thor\"},\n",
    "    {\"id\": 5, \"name\": \"Clive\"},\n",
    "    {\"id\": 6, \"name\": \"Hicks\"},\n",
    "    {\"id\": 7, \"name\": \"Devin\"},\n",
    "    {\"id\": 8, \"name\": \"Kate\"},\n",
    "    {\"id\": 9, \"name\": \"Klein\"}\n",
    "]"
   ]
  },
  {
   "cell_type": "markdown",
   "metadata": {},
   "source": [
    " 1. Definir las conexiones (amistades)"
   ]
  },
  {
   "cell_type": "code",
   "execution_count": 2,
   "metadata": {},
   "outputs": [],
   "source": [
    "friendships = {\n",
    "    0: [1, 2],\n",
    "    1: [0, 2, 3],\n",
    "    2: [0, 1, 3],\n",
    "    3: [1, 2, 4],\n",
    "    4: [3, 5],\n",
    "    5: [4, 6, 7],\n",
    "    6: [5, 8],\n",
    "    7: [5, 8],\n",
    "    8: [6, 7, 9],\n",
    "    9: [8]\n",
    "}"
   ]
  },
  {
   "cell_type": "markdown",
   "metadata": {},
   "source": [
    "2. Añadir las conexiones a cada usuario\n",
    "Agregaremos una clave \"friends\" a cada usuario en users para tener toda la información en un solo lugar."
   ]
  },
  {
   "cell_type": "code",
   "execution_count": 3,
   "metadata": {},
   "outputs": [],
   "source": [
    "for user in users:\n",
    "    user[\"friends\"] = friendships.get(user[\"id\"], [])"
   ]
  },
  {
   "cell_type": "markdown",
   "metadata": {},
   "source": [
    "🔹 3. Funciones útiles para agrupaciones\n",
    "a Encontrar amigos de un usuario"
   ]
  },
  {
   "cell_type": "code",
   "execution_count": 4,
   "metadata": {},
   "outputs": [],
   "source": [
    "def get_friends(user_id):\n",
    "    return [user for user in users if user[\"id\"] in friendships.get(user_id, [])]"
   ]
  },
  {
   "cell_type": "markdown",
   "metadata": {},
   "source": [
    "b Contar conexiones (popularidad)"
   ]
  },
  {
   "cell_type": "code",
   "execution_count": 5,
   "metadata": {},
   "outputs": [],
   "source": [
    "def count_friends(user_id):\n",
    "    return len(friendships.get(user_id, []))"
   ]
  },
  {
   "cell_type": "markdown",
   "metadata": {},
   "source": [
    "c Encontrar amigos en común entre dos usuarios"
   ]
  },
  {
   "cell_type": "code",
   "execution_count": 6,
   "metadata": {},
   "outputs": [],
   "source": [
    "def common_friends(user1_id, user2_id):\n",
    "    friends1 = set(friendships.get(user1_id, []))\n",
    "    friends2 = set(friendships.get(user2_id, []))\n",
    "    return list(friends1 & friends2)"
   ]
  },
  {
   "cell_type": "markdown",
   "metadata": {},
   "source": [
    "🔹 4. Detectar comunidades (grupos conectados)\n",
    "Usaremos BFS (Breadth-First Search) para encontrar componentes conectados (comunidades)."
   ]
  },
  {
   "cell_type": "code",
   "execution_count": 7,
   "metadata": {},
   "outputs": [
    {
     "name": "stdout",
     "output_type": "stream",
     "text": [
      "Comunidades: [[0, 1, 2, 3, 4, 5, 6, 7, 8, 9]]\n"
     ]
    }
   ],
   "source": [
    "from collections import deque\n",
    "\n",
    "def find_communities():\n",
    "    visited = set()\n",
    "    communities = []\n",
    "\n",
    "    for user in users:\n",
    "        if user[\"id\"] not in visited:\n",
    "            queue = deque([user[\"id\"]])\n",
    "            community = []\n",
    "            while queue:\n",
    "                current_id = queue.popleft()\n",
    "                if current_id not in visited:\n",
    "                    visited.add(current_id)\n",
    "                    community.append(current_id)\n",
    "                    for friend_id in friendships.get(current_id, []):\n",
    "                        if friend_id not in visited:\n",
    "                            queue.append(friend_id)\n",
    "            communities.append(community)\n",
    "    return communities\n",
    "\n",
    "communities = find_communities()\n",
    "print(\"Comunidades:\", communities)"
   ]
  },
  {
   "cell_type": "markdown",
   "metadata": {},
   "source": [
    "🔹 5. Recomendación de amigos (sugerir conexiones)\n",
    "Basado en amigos en común (como LinkedIn o Facebook):"
   ]
  },
  {
   "cell_type": "code",
   "execution_count": 8,
   "metadata": {},
   "outputs": [
    {
     "name": "stdout",
     "output_type": "stream",
     "text": [
      "Sugerencias para el usuario 0: [3]\n"
     ]
    }
   ],
   "source": [
    "def suggest_friends(user_id):\n",
    "    suggestions = {}  # Diccionario para almacenar sugerencias y sus conteos\n",
    "    for friend_id in friendships.get(user_id, []):  # 1. Recorre amigos directos del usuario\n",
    "        for friend_of_friend in friendships.get(friend_id, []):  # 2. Recorre amigos de cada amigo\n",
    "            if (friend_of_friend != user_id and  # 3. Verifica que no sea el propio usuario\n",
    "                friend_of_friend not in friendships.get(user_id, [])):  # 4. Verifica que no sea ya amigo\n",
    "                suggestions[friend_of_friend] = suggestions.get(friend_of_friend, 0) + 1  # 5. Actualiza conteo\n",
    "    return sorted(suggestions.keys(), key=lambda x: suggestions[x], reverse=True)  # 6. Ordena por frecuencia\n",
    "\n",
    "print(\"Sugerencias para el usuario 0:\", suggest_friends(0))"
   ]
  },
  {
   "cell_type": "markdown",
   "metadata": {},
   "source": [
    "🔹 6. Visualización (usando networkx y matplotlib)"
   ]
  },
  {
   "cell_type": "code",
   "execution_count": 9,
   "metadata": {},
   "outputs": [
    {
     "name": "stdout",
     "output_type": "stream",
     "text": [
      "Requirement already satisfied: networkx in c:\\users\\dc\\anaconda3\\envs\\myenv\\lib\\site-packages (3.2.1)\n",
      "Requirement already satisfied: matplotlib in c:\\users\\dc\\anaconda3\\envs\\myenv\\lib\\site-packages (3.9.2)\n",
      "Requirement already satisfied: contourpy>=1.0.1 in c:\\users\\dc\\anaconda3\\envs\\myenv\\lib\\site-packages (from matplotlib) (1.2.1)\n",
      "Requirement already satisfied: cycler>=0.10 in c:\\users\\dc\\anaconda3\\envs\\myenv\\lib\\site-packages (from matplotlib) (0.11.0)\n",
      "Requirement already satisfied: fonttools>=4.22.0 in c:\\users\\dc\\anaconda3\\envs\\myenv\\lib\\site-packages (from matplotlib) (4.55.3)\n",
      "Requirement already satisfied: kiwisolver>=1.3.1 in c:\\users\\dc\\anaconda3\\envs\\myenv\\lib\\site-packages (from matplotlib) (1.4.4)\n",
      "Requirement already satisfied: numpy>=1.23 in c:\\users\\dc\\anaconda3\\envs\\myenv\\lib\\site-packages (from matplotlib) (1.26.4)\n",
      "Requirement already satisfied: packaging>=20.0 in c:\\users\\dc\\anaconda3\\envs\\myenv\\lib\\site-packages (from matplotlib) (24.2)\n",
      "Requirement already satisfied: pillow>=8 in c:\\users\\dc\\anaconda3\\envs\\myenv\\lib\\site-packages (from matplotlib) (11.1.0)\n",
      "Requirement already satisfied: pyparsing>=2.3.1 in c:\\users\\dc\\anaconda3\\envs\\myenv\\lib\\site-packages (from matplotlib) (3.2.0)\n",
      "Requirement already satisfied: python-dateutil>=2.7 in c:\\users\\dc\\anaconda3\\envs\\myenv\\lib\\site-packages (from matplotlib) (2.9.0.post0)\n",
      "Requirement already satisfied: importlib-resources>=3.2.0 in c:\\users\\dc\\anaconda3\\envs\\myenv\\lib\\site-packages (from matplotlib) (6.4.0)\n",
      "Requirement already satisfied: zipp>=3.1.0 in c:\\users\\dc\\anaconda3\\envs\\myenv\\lib\\site-packages (from importlib-resources>=3.2.0->matplotlib) (3.21.0)\n",
      "Requirement already satisfied: six>=1.5 in c:\\users\\dc\\anaconda3\\envs\\myenv\\lib\\site-packages (from python-dateutil>=2.7->matplotlib) (1.16.0)\n",
      "Note: you may need to restart the kernel to use updated packages.\n"
     ]
    }
   ],
   "source": [
    "pip install networkx matplotlib"
   ]
  },
  {
   "cell_type": "code",
   "execution_count": 10,
   "metadata": {},
   "outputs": [
    {
     "data": {
      "image/png": "[encoded data removed]",
      "text/plain": [
       "<Figure size 640x480 with 1 Axes>"
      ]
     },
     "metadata": {},
     "output_type": "display_data"
    }
   ],
   "source": [
    "import networkx as nx\n",
    "import matplotlib.pyplot as plt\n",
    "\n",
    "G = nx.Graph()\n",
    "for user in users:\n",
    "    G.add_node(user[\"id\"], name=user[\"name\"])\n",
    "for user_id, friends in friendships.items():\n",
    "    for friend_id in friends:\n",
    "        G.add_edge(user_id, friend_id)\n",
    "\n",
    "pos = nx.spring_layout(G)\n",
    "nx.draw(G, pos, with_labels=True, node_color=\"skyblue\", node_size=1000)\n",
    "plt.show()"
   ]
  }
 ],
 "metadata": {
  "kernelspec": {
   "display_name": "myenv",
   "language": "python",
   "name": "python3"
  },
  "language_info": {
   "codemirror_mode": {
    "name": "ipython",
    "version": 3
   },
   "file_extension": ".py",
   "mimetype": "text/x-python",
   "name": "python",
   "nbconvert_exporter": "python",
   "pygments_lexer": "ipython3",
   "version": "3.9.21"
  }
 },
 "nbformat": 4,
 "nbformat_minor": 2
}
