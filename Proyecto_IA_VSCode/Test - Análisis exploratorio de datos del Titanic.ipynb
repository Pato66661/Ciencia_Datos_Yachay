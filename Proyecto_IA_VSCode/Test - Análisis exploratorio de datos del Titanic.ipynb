{
 "cells": [
  {
   "cell_type": "markdown",
   "metadata": {},
   "source": [
    "Autor:  \n",
    "Manuel Eugenio Morocho Cayamcela, PhD"
   ]
  },
  {
   "cell_type": "markdown",
   "metadata": {},
   "source": [
    "## Análisis exploratorio de los datos del Titanic"
   ]
  },
  {
   "cell_type": "markdown",
   "metadata": {},
   "source": [
    "El Titanic fue un famoso transatlántico que se hundió trágicamente en su viaje inaugural en 1912. Considerado en ese momento como el barco más grande y lujoso del mundo, el Titanic era un símbolo de la opulencia y el progreso tecnológico de la época.\n",
    "\n",
    "El 10 de abril de 1912, el Titanic partió de Southampton, Inglaterra, con destino a Nueva York. Sin embargo, en la noche del 14 al 15 de abril, el barco chocó contra un iceberg en el Atlántico Norte y se hundió en cuestión de horas. Este desastre resultó en la muerte de más de 1,500 personas, convirtiéndose en una de las tragedias marítimas más mortales de la historia."
   ]
  },
  {
   "cell_type": "markdown",
   "metadata": {},
   "source": [
    "### **Introducción:**\n",
    "\n",
    "En esta lectura que forma parte de la primera semana del módulo de Fundamentos de Inteligencia Artificial, nos adentraremos en el mundo de la extracción de información a partir de datos. El objetivo principal es introducir a los estudiantes en las herramientas y técnicas necesarias para analizar y visualizar datos básicos.\n",
    "\n",
    "El análisis de los datos del Titanic, como los que se encuentran en el conjunto de datos utilizado en este Jupyter Notebook, nos permite explorar diferentes aspectos de este trágico suceso. Podemos investigar la correlación entre la supervivencia y variables como la clase en la que viajaban los pasajeros, el género, la edad, entre otros. También podemos utilizar herramientas de visualización para representar gráficamente los datos y obtener información valiosa sobre los patrones y las características de los pasajeros del Titanic.\n",
    "\n",
    "Durante esta actividad, nos enfocaremos en dos objetivos principales:\n",
    "\n",
    "1. Comprobar la teoría de que existe una correlación entre los sobrevivientes y la clase en la que viajaban. Para ello, analizaremos los datos del famoso naufragio del Titanic y exploraremos si la clase en la que viajaban los pasajeros tiene alguna influencia en su supervivencia.\n",
    "\n",
    "2. Descubrir si murieron más hombres que mujeres en el naufragio. Mediante el análisis de los datos, buscaremos determinar si existe alguna diferencia significativa en la tasa de supervivencia entre hombres y mujeres.\n",
    "\n",
    "A continuación, se detallan los pasos necesarios para llevar a cabo esta actividad:\n",
    "\n",
    "- Comenzaremos importando el conjunto de datos del Titanic, el cual se encuentra en formato CSV. Utilizaremos la biblioteca pandas para cargar los datos en un DataFrame y así poder manipularlos y analizarlos.\n",
    "\n",
    "- Una vez que hayamos importado los datos, realizaremos un análisis exploratorio para comprender mejor la estructura y características del conjunto de datos. Esto incluirá la visualización de estadísticas descriptivas básicas, la identificación de valores faltantes y la exploración de las variables relevantes para nuestros objetivos.\n",
    "\n",
    "- Para hacer el análisis más didáctico y comprensible, pueden representar gráficamente algunos datos. Esto incluirá la creación de gráficos de barras y otras visualizaciones que nos ayuden a analizar la correlación entre las variables y a responder nuestras preguntas de investigación."
   ]
  },
  {
   "cell_type": "markdown",
   "metadata": {},
   "source": [
    "Cada fila representa un pasajero del Titanic, y cada columna representa una característica de ese pasajero, como su edad, sexo, clase de pasajero, etc. \n",
    "\n",
    "El conjunto de datos del Titanic contiene las siguientes columnas:\n",
    "\n",
    "1. `PassengerId`: Un identificador único para cada pasajero.\n",
    "2. `Survived`: Si el pasajero sobrevivió o no (0 = No, 1 = Sí).\n",
    "3. `Pclass`: La clase del billete del pasajero (1 = Primera, 2 = Segunda, 3 = Tercera).\n",
    "4. `Name`: El nombre del pasajero.\n",
    "5. `Sex`: El sexo del pasajero.\n",
    "6. `Age`: La edad del pasajero.\n",
    "7. `SibSp`: El número de hermanos o cónyuges que el pasajero tenía a bordo del Titanic.\n",
    "8. `Parch`: El número de padres o hijos que el pasajero tenía a bordo del Titanic.\n",
    "9. `Ticket`: El número de billete del pasajero.\n",
    "10. `Fare`: La tarifa que el pasajero pagó por el billete.\n",
    "11. `Cabin`: El número de cabina del pasajero.\n",
    "12. `Embarked`: El puerto en el que el pasajero embarcó (C = Cherbourg, Q = Queenstown, S = Southampton)."
   ]
  },
  {
   "cell_type": "markdown",
   "metadata": {},
   "source": [
    "### Evaluación de hipótesis"
   ]
  },
  {
   "cell_type": "markdown",
   "metadata": {},
   "source": [
    "#### Hipótesis 1: Las mujeres tuvieron más probabilidades de sobrevivir"
   ]
  },
  {
   "cell_type": "markdown",
   "metadata": {},
   "source": [
    "Existe una vieja teoría conspirativa en la que aparentemente si eras de sexo femenino, tenías más probabilidades de sobrevivir. Veamos si esta hipótesis es real.\n",
    "\n",
    "Pueden utilizar la biblioteca Seaborn para crear un gráfico de barras que muestre la cantidad de pasajeros que sobrevivieron y no sobrevivieron, desglosados por género."
   ]
  },
  {
   "cell_type": "markdown",
   "metadata": {},
   "source": [
    "#### Hipótesis 2: Si viajabas en primera clase tenías más probabilidades de sobrevivir"
   ]
  },
  {
   "cell_type": "markdown",
   "metadata": {},
   "source": [
    "Otra hipótesis que podemos probar es si existe correlación entre la clase en la que viajaban los pasajeros del Titanic y su tasa de supervivencia. Para investigar esta relación, utilizaremos herramientas de visualización para representar gráficamente los datos y determinar si hay alguna diferencia significativa en la tasa de supervivencia entre las diferentes clases. \n",
    "\n",
    "Pueden usar la biblioteca Seaborn para crear un gráfico de barras que muestre la cantidad de pasajeros que sobrevivieron y no sobrevivieron, desglosados por la clase del pasajero."
   ]
  }
 ],
 "metadata": {
  "kernelspec": {
   "display_name": ".venv",
   "language": "python",
   "name": "python3"
  },
  "language_info": {
   "codemirror_mode": {
    "name": "ipython",
    "version": 3
   },
   "file_extension": ".py",
   "mimetype": "text/x-python",
   "name": "python",
   "nbconvert_exporter": "python",
   "pygments_lexer": "ipython3",
   "version": "3.11.3"
  }
 },
 "nbformat": 4,
 "nbformat_minor": 2
}
